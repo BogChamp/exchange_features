{
 "cells": [
  {
   "cell_type": "markdown",
   "metadata": {},
   "source": [
    "# Download packages"
   ]
  },
  {
   "cell_type": "code",
   "execution_count": null,
   "metadata": {},
   "outputs": [],
   "source": [
    "# !pip3 install gdown -q\n",
    "# !pip3 install polars -q\n",
    "# !pip3 install numba -q\n",
    "# !pip3 install numba-progress -q"
   ]
  },
  {
   "cell_type": "markdown",
   "metadata": {},
   "source": [
    "# Imports"
   ]
  },
  {
   "cell_type": "code",
   "execution_count": 215,
   "metadata": {
    "execution": {
     "iopub.execute_input": "2023-12-18T22:54:20.640199Z",
     "iopub.status.busy": "2023-12-18T22:54:20.639932Z",
     "iopub.status.idle": "2023-12-18T22:54:21.522432Z",
     "shell.execute_reply": "2023-12-18T22:54:21.521701Z",
     "shell.execute_reply.started": "2023-12-18T22:54:20.640173Z"
    }
   },
   "outputs": [
    {
     "name": "stdout",
     "output_type": "stream",
     "text": [
      "The autoreload extension is already loaded. To reload it, use:\n",
      "  %reload_ext autoreload\n"
     ]
    }
   ],
   "source": [
    "import gdown\n",
    "import numpy as np\n",
    "import cupy as cp\n",
    "import pandas as pd\n",
    "import polars as pl\n",
    "from tqdm import tqdm\n",
    "import matplotlib.pyplot as plt\n",
    "import numba as nb\n",
    "from numba import njit\n",
    "import time \n",
    "\n",
    "%load_ext autoreload"
   ]
  },
  {
   "cell_type": "code",
   "execution_count": 216,
   "metadata": {},
   "outputs": [],
   "source": [
    "from numba_functions import numba_imb, numba_calculate_past_returns, numba_log_returns, numba_data_autocorrelation, numba_data_realized_kernel\n",
    "from numpy_functions import numpy_imb, numpy_calculate_past_returns, numpy_log_returns, numpy_data_autocorrelation, numpy_data_realized_kernel\n",
    "from cupy_functions import cupy_imb, cupy_calculate_past_returns, cupy_log_returns, cupy_data_autocorrelation, cupy_data_realized_kernel\n",
    "%autoreload 2"
   ]
  },
  {
   "cell_type": "markdown",
   "metadata": {},
   "source": [
    "# Download data"
   ]
  },
  {
   "cell_type": "code",
   "execution_count": null,
   "metadata": {},
   "outputs": [],
   "source": [
    "url = \"https://drive.google.com/file/d/15E15XFVD8laDXNhw7uPpcPiWw-IGkYfv/view?usp=sharing\"\n",
    "output = 'book2h.parquet'\n",
    "gdown.download(url=url, output=output, fuzzy=True, quiet=True)\n",
    "\n",
    "url = \"https://drive.google.com/file/d/1iTOy1bcQlgyuz-V2U-zgCFfzOuRm7NyN/view?usp=sharing\"\n",
    "output = \"ticker2h.parquet\"\n",
    "gdown.download(url=url, output=output, fuzzy=True, quiet=True)\n",
    "\n",
    "url = \"https://drive.google.com/file/d/1Ro-3FbjQC2FDYIg1UZG7TIFEWOQkQ4uG/view?usp=sharing\"\n",
    "output = \"trades2h.parquet\"\n",
    "gdown.download(url=url, output=output, fuzzy=True, quiet=True)"
   ]
  },
  {
   "cell_type": "markdown",
   "metadata": {},
   "source": [
    "# Data Preparation"
   ]
  },
  {
   "cell_type": "code",
   "execution_count": 85,
   "metadata": {
    "execution": {
     "iopub.execute_input": "2023-12-18T22:54:26.334248Z",
     "iopub.status.busy": "2023-12-18T22:54:26.333619Z",
     "iopub.status.idle": "2023-12-18T22:54:39.435544Z",
     "shell.execute_reply": "2023-12-18T22:54:39.434628Z",
     "shell.execute_reply.started": "2023-12-18T22:54:26.334214Z"
    }
   },
   "outputs": [],
   "source": [
    "book = pl.read_parquet('book2h.parquet')\n",
    "ticker = pl.read_parquet('ticker2h.parquet')\n",
    "trades = pl.read_parquet('trades2h.parquet')\n",
    "trades = trades.with_columns(pl.col('side').cast(pl.Float32, strict=False))"
   ]
  },
  {
   "cell_type": "code",
   "execution_count": 87,
   "metadata": {},
   "outputs": [],
   "source": [
    "book_numpy = book.to_numpy()\n",
    "ticker_numpy = ticker.to_numpy()\n",
    "trades_numpy = trades.to_numpy()"
   ]
  },
  {
   "cell_type": "code",
   "execution_count": 4,
   "metadata": {},
   "outputs": [],
   "source": [
    "# book = book.set_sorted('local_ts').with_columns(\n",
    "#     pl.from_epoch(pl.col(\"local_ts\"), time_unit=\"ns\"))\n",
    "\n",
    "# ticker = ticker.set_sorted('local_ts').with_columns(\n",
    "#     pl.from_epoch(pl.col(\"local_ts\"), time_unit=\"ns\"))\n",
    "\n",
    "# trades = trades.set_sorted('local_ts').with_columns(\n",
    "#     pl.from_epoch(pl.col(\"local_ts\"), time_unit=\"ns\"))"
   ]
  },
  {
   "cell_type": "markdown",
   "metadata": {},
   "source": [
    "# Feature generation"
   ]
  },
  {
   "cell_type": "markdown",
   "metadata": {},
   "source": [
    "### Improved order book imbalances"
   ]
  },
  {
   "cell_type": "code",
   "execution_count": 39,
   "metadata": {},
   "outputs": [],
   "source": [
    "ob_sizes_array = np.array([book_numpy.shape[0] // 10 for _ in range(10)])\n",
    "ob_sizes_array[np.arange(ob_sizes_array.shape[0]) <= (book_numpy.shape[0] % 10)] += 1\n",
    "ob_sizes_array = np.cumsum(ob_sizes_array)"
   ]
  },
  {
   "cell_type": "code",
   "execution_count": 40,
   "metadata": {},
   "outputs": [
    {
     "name": "stderr",
     "output_type": "stream",
     "text": [
      "  0%|          | 0/10 [00:00<?, ?it/s]"
     ]
    },
    {
     "name": "stderr",
     "output_type": "stream",
     "text": [
      "100%|██████████| 10/10 [00:01<00:00,  6.14it/s]\n"
     ]
    }
   ],
   "source": [
    "numba_times = []\n",
    "\n",
    "for size in tqdm(ob_sizes_array):\n",
    "    start = time.perf_counter()\n",
    "    numba_imbalance = np.array(numba_imb(book_numpy[:size]))\n",
    "    end = time.perf_counter()\n",
    "    numba_times.append(end - start)"
   ]
  },
  {
   "cell_type": "code",
   "execution_count": 41,
   "metadata": {},
   "outputs": [
    {
     "name": "stderr",
     "output_type": "stream",
     "text": [
      "100%|██████████| 10/10 [03:44<00:00, 22.48s/it]\n"
     ]
    }
   ],
   "source": [
    "numpy_times = []\n",
    "\n",
    "for size in tqdm(ob_sizes_array):\n",
    "    start = time.perf_counter()\n",
    "    numpy_imbalance = np.array(numpy_imb(book_numpy[:size]))\n",
    "    end = time.perf_counter()\n",
    "    numpy_times.append(end - start)"
   ]
  },
  {
   "cell_type": "code",
   "execution_count": 17,
   "metadata": {
    "execution": {
     "iopub.execute_input": "2023-12-18T23:02:37.748468Z",
     "iopub.status.busy": "2023-12-18T23:02:37.748073Z",
     "iopub.status.idle": "2023-12-18T23:02:37.767677Z",
     "shell.execute_reply": "2023-12-18T23:02:37.766393Z",
     "shell.execute_reply.started": "2023-12-18T23:02:37.748436Z"
    }
   },
   "outputs": [
    {
     "name": "stderr",
     "output_type": "stream",
     "text": [
      "  0%|          | 0/177479 [00:00<?, ?it/s]100%|██████████| 177479/177479 [08:50<00:00, 334.36it/s]\n"
     ]
    }
   ],
   "source": [
    "cupy_times = []\n",
    "\n",
    "for size in tqdm(ob_sizes_array):\n",
    "    start = time.perf_counter()\n",
    "    cupy_imbalance = np.array(cupy_imb(book_numpy[:size]))\n",
    "    end = time.perf_counter()\n",
    "    cupy_times.append(end - start)"
   ]
  },
  {
   "cell_type": "markdown",
   "metadata": {},
   "source": [
    "### Past returns"
   ]
  },
  {
   "cell_type": "code",
   "execution_count": 106,
   "metadata": {},
   "outputs": [],
   "source": [
    "trades_sizes_array = np.array([trades_numpy.shape[0] // 10 for _ in range(10)])\n",
    "trades_sizes_array[np.arange(trades_sizes_array.shape[0]) <= (trades_numpy.shape[0] % 10)] += 1\n",
    "trades_sizes_array = np.cumsum(trades_sizes_array)"
   ]
  },
  {
   "cell_type": "code",
   "execution_count": 107,
   "metadata": {},
   "outputs": [],
   "source": [
    "past_returns_window = 50"
   ]
  },
  {
   "cell_type": "code",
   "execution_count": 174,
   "metadata": {},
   "outputs": [
    {
     "name": "stderr",
     "output_type": "stream",
     "text": [
      "  0%|          | 0/10 [00:00<?, ?it/s]"
     ]
    },
    {
     "name": "stderr",
     "output_type": "stream",
     "text": [
      "100%|██████████| 10/10 [00:00<00:00, 27.55it/s]\n"
     ]
    }
   ],
   "source": [
    "numba_times = []\n",
    "\n",
    "for size in tqdm(trades_sizes_array):\n",
    "    start = time.perf_counter()\n",
    "    numba_past_return = np.array(numba_calculate_past_returns(trades_numpy[:size].astype(float), past_returns_window))\n",
    "    end = time.perf_counter()\n",
    "    numba_times.append(end - start)"
   ]
  },
  {
   "cell_type": "code",
   "execution_count": 167,
   "metadata": {},
   "outputs": [
    {
     "name": "stderr",
     "output_type": "stream",
     "text": [
      "  0%|          | 0/10 [00:00<?, ?it/s]"
     ]
    },
    {
     "name": "stderr",
     "output_type": "stream",
     "text": [
      "100%|██████████| 10/10 [01:14<00:00,  7.45s/it]\n"
     ]
    }
   ],
   "source": [
    "numpy_times = []\n",
    "\n",
    "for size in tqdm(trades_sizes_array):\n",
    "    start = time.perf_counter()\n",
    "    numpy_past_return = np.array(numpy_calculate_past_returns(trades_numpy[:size].astype(float), past_returns_window))\n",
    "    end = time.perf_counter()\n",
    "    numpy_times.append(end - start)"
   ]
  },
  {
   "cell_type": "code",
   "execution_count": null,
   "metadata": {},
   "outputs": [],
   "source": [
    "cupy_times = []\n",
    "\n",
    "for size in tqdm(trades_sizes_array):\n",
    "    start = time.perf_counter()\n",
    "    cupy_past_return = np.array(cupy_calculate_past_returns(trades_numpy[:size].astype(float), past_returns_window))\n",
    "    end = time.perf_counter()\n",
    "    cupy_times.append(end - start)"
   ]
  },
  {
   "cell_type": "markdown",
   "metadata": {},
   "source": [
    "### Log returns"
   ]
  },
  {
   "cell_type": "code",
   "execution_count": 187,
   "metadata": {},
   "outputs": [
    {
     "name": "stderr",
     "output_type": "stream",
     "text": [
      "100%|██████████| 10/10 [00:00<00:00, 347.57it/s]\n"
     ]
    }
   ],
   "source": [
    "numba_times = []\n",
    "\n",
    "for size in tqdm(trades_sizes_array):\n",
    "    start = time.perf_counter()\n",
    "    numba_log_ret = np.array(numba_log_returns(trades_numpy[:size][:, 1].astype(float)))\n",
    "    end = time.perf_counter()\n",
    "    numba_times.append(end - start)"
   ]
  },
  {
   "cell_type": "code",
   "execution_count": 188,
   "metadata": {},
   "outputs": [
    {
     "name": "stderr",
     "output_type": "stream",
     "text": [
      "100%|██████████| 10/10 [00:00<00:00, 342.74it/s]\n"
     ]
    }
   ],
   "source": [
    "numpy_times = []\n",
    "\n",
    "for size in tqdm(trades_sizes_array):\n",
    "    start = time.perf_counter()\n",
    "    numpy_log_ret = np.array(numpy_log_returns(trades_numpy[:size][:, 1].astype(float)))\n",
    "    end = time.perf_counter()\n",
    "    numpy_times.append(end - start)"
   ]
  },
  {
   "cell_type": "code",
   "execution_count": 184,
   "metadata": {},
   "outputs": [
    {
     "name": "stderr",
     "output_type": "stream",
     "text": [
      "  0%|          | 0/10 [00:00<?, ?it/s]"
     ]
    },
    {
     "name": "stderr",
     "output_type": "stream",
     "text": [
      "  0%|          | 0/10 [00:00<?, ?it/s]\n"
     ]
    },
    {
     "ename": "NotImplementedError",
     "evalue": "Only full range ``x[::]`` or reverse ``x[::-1]`` is supported for basic slicing in CuPy fusion.",
     "output_type": "error",
     "traceback": [
      "\u001b[0;31m---------------------------------------------------------------------------\u001b[0m",
      "\u001b[0;31mTypeError\u001b[0m                                 Traceback (most recent call last)",
      "File \u001b[0;32mcupy/_core/fusion.pyx:891\u001b[0m, in \u001b[0;36mcupy._core.fusion.Fusion.__call__\u001b[0;34m()\u001b[0m\n",
      "File \u001b[0;32mcupy/_core/fusion.pyx:732\u001b[0m, in \u001b[0;36mcupy._core.fusion._FusionHistory.get_fusion\u001b[0;34m()\u001b[0m\n",
      "File \u001b[0;32m~/skoltech/hppl/exchange_features/cupy_functions.py:119\u001b[0m, in \u001b[0;36mcupy_log_returns\u001b[0;34m(prices)\u001b[0m\n\u001b[1;32m    118\u001b[0m log_prices \u001b[38;5;241m=\u001b[39m cp\u001b[38;5;241m.\u001b[39mlog(prices)\n\u001b[0;32m--> 119\u001b[0m \u001b[38;5;28;01mreturn\u001b[39;00m \u001b[43mlog_prices\u001b[49m\u001b[43m[\u001b[49m\u001b[38;5;241;43m1\u001b[39;49m\u001b[43m:\u001b[49m\u001b[43m]\u001b[49m \u001b[38;5;241m-\u001b[39m log_prices[:\u001b[38;5;241m-\u001b[39m\u001b[38;5;241m1\u001b[39m]\n",
      "\u001b[0;31mTypeError\u001b[0m: '_FusionVarArray' object is not subscriptable",
      "\nDuring handling of the above exception, another exception occurred:\n",
      "\u001b[0;31mNotImplementedError\u001b[0m                       Traceback (most recent call last)",
      "Cell \u001b[0;32mIn[184], line 5\u001b[0m\n\u001b[1;32m      3\u001b[0m \u001b[38;5;28;01mfor\u001b[39;00m size \u001b[38;5;129;01min\u001b[39;00m tqdm(trades_sizes_array):\n\u001b[1;32m      4\u001b[0m     start \u001b[38;5;241m=\u001b[39m time\u001b[38;5;241m.\u001b[39mperf_counter()\n\u001b[0;32m----> 5\u001b[0m     tuples \u001b[38;5;241m=\u001b[39m np\u001b[38;5;241m.\u001b[39marray(\u001b[43mcupy_log_returns\u001b[49m\u001b[43m(\u001b[49m\u001b[43mcp\u001b[49m\u001b[38;5;241;43m.\u001b[39;49m\u001b[43masarray\u001b[49m\u001b[43m(\u001b[49m\u001b[43mtrades_numpy\u001b[49m\u001b[43m[\u001b[49m\u001b[43m:\u001b[49m\u001b[43msize\u001b[49m\u001b[43m]\u001b[49m\u001b[43m[\u001b[49m\u001b[43m:\u001b[49m\u001b[43m,\u001b[49m\u001b[43m \u001b[49m\u001b[38;5;241;43m1\u001b[39;49m\u001b[43m]\u001b[49m\u001b[38;5;241;43m.\u001b[39;49m\u001b[43mastype\u001b[49m\u001b[43m(\u001b[49m\u001b[38;5;28;43mfloat\u001b[39;49m\u001b[43m)\u001b[49m\u001b[43m)\u001b[49m\u001b[43m)\u001b[49m)\n\u001b[1;32m      6\u001b[0m     end \u001b[38;5;241m=\u001b[39m time\u001b[38;5;241m.\u001b[39mperf_counter()\n\u001b[1;32m      7\u001b[0m     cupy_times\u001b[38;5;241m.\u001b[39mappend(end \u001b[38;5;241m-\u001b[39m start)\n",
      "File \u001b[0;32mcupy/_core/fusion.pyx:897\u001b[0m, in \u001b[0;36mcupy._core.fusion.Fusion.__call__\u001b[0;34m()\u001b[0m\n",
      "File \u001b[0;32mcupy/_core/new_fusion.pyx:157\u001b[0m, in \u001b[0;36mcupy._core.new_fusion.Fusion.__call__\u001b[0;34m()\u001b[0m\n",
      "File \u001b[0;32mcupy/_core/new_fusion.pyx:28\u001b[0m, in \u001b[0;36mcupy._core.new_fusion._get_fused_kernel\u001b[0;34m()\u001b[0m\n",
      "File \u001b[0;32mcupy/_core/_fusion_trace.pyx:592\u001b[0m, in \u001b[0;36mcupy._core._fusion_trace.trace\u001b[0;34m()\u001b[0m\n",
      "File \u001b[0;32mcupy/_core/_fusion_trace.pyx:534\u001b[0m, in \u001b[0;36mcupy._core._fusion_trace.TraceImpl.trace\u001b[0;34m()\u001b[0m\n",
      "File \u001b[0;32m~/skoltech/hppl/exchange_features/cupy_functions.py:119\u001b[0m, in \u001b[0;36mcupy_log_returns\u001b[0;34m(prices)\u001b[0m\n\u001b[1;32m    116\u001b[0m \u001b[38;5;129m@cp\u001b[39m\u001b[38;5;241m.\u001b[39mfuse()\n\u001b[1;32m    117\u001b[0m \u001b[38;5;28;01mdef\u001b[39;00m \u001b[38;5;21mcupy_log_returns\u001b[39m(prices):\n\u001b[1;32m    118\u001b[0m     log_prices \u001b[38;5;241m=\u001b[39m cp\u001b[38;5;241m.\u001b[39mlog(prices)\n\u001b[0;32m--> 119\u001b[0m     \u001b[38;5;28;01mreturn\u001b[39;00m \u001b[43mlog_prices\u001b[49m\u001b[43m[\u001b[49m\u001b[38;5;241;43m1\u001b[39;49m\u001b[43m:\u001b[49m\u001b[43m]\u001b[49m \u001b[38;5;241m-\u001b[39m log_prices[:\u001b[38;5;241m-\u001b[39m\u001b[38;5;241m1\u001b[39m]\n",
      "File \u001b[0;32m~/.local/lib/python3.11/site-packages/cupy/_core/_fusion_interface.py:264\u001b[0m, in \u001b[0;36m_ArrayProxy.__getitem__\u001b[0;34m(self, index)\u001b[0m\n\u001b[1;32m    263\u001b[0m \u001b[38;5;28;01mdef\u001b[39;00m \u001b[38;5;21m__getitem__\u001b[39m(\u001b[38;5;28mself\u001b[39m, index):\n\u001b[0;32m--> 264\u001b[0m     \u001b[38;5;28;01mreturn\u001b[39;00m \u001b[43m_fusion_thread_local\u001b[49m\u001b[38;5;241;43m.\u001b[39;49m\u001b[43mcall_indexing\u001b[49m\u001b[43m(\u001b[49m\u001b[38;5;28;43mself\u001b[39;49m\u001b[43m,\u001b[49m\u001b[43m \u001b[49m\u001b[43mindex\u001b[49m\u001b[43m)\u001b[49m\n",
      "File \u001b[0;32mcupy/_core/_fusion_thread_local.pyx:46\u001b[0m, in \u001b[0;36mcupy._core._fusion_thread_local.call_indexing\u001b[0;34m()\u001b[0m\n",
      "File \u001b[0;32mcupy/_core/_fusion_trace.pyx:482\u001b[0m, in \u001b[0;36mcupy._core._fusion_trace.TraceImpl.call_indexing\u001b[0;34m()\u001b[0m\n",
      "File \u001b[0;32mcupy/_core/_fusion_trace.pyx:211\u001b[0m, in \u001b[0;36mcupy._core._fusion_trace._VariableCoordinator.indexing\u001b[0;34m()\u001b[0m\n",
      "\u001b[0;31mNotImplementedError\u001b[0m: Only full range ``x[::]`` or reverse ``x[::-1]`` is supported for basic slicing in CuPy fusion."
     ]
    }
   ],
   "source": [
    "cupy_times = []\n",
    "\n",
    "for size in tqdm(trades_sizes_array):\n",
    "    start = time.perf_counter()\n",
    "    cupy_log_ret = np.array(cupy_log_returns(trades_numpy[:size][:, 1].astype(float)))\n",
    "    end = time.perf_counter()\n",
    "    cupy_times.append(end - start)"
   ]
  },
  {
   "cell_type": "markdown",
   "metadata": {},
   "source": [
    "### Autocorrelation"
   ]
  },
  {
   "cell_type": "code",
   "execution_count": 211,
   "metadata": {
    "execution": {
     "iopub.execute_input": "2023-12-18T23:11:45.681923Z",
     "iopub.status.busy": "2023-12-18T23:11:45.681524Z",
     "iopub.status.idle": "2023-12-18T23:11:45.686566Z",
     "shell.execute_reply": "2023-12-18T23:11:45.685678Z",
     "shell.execute_reply.started": "2023-12-18T23:11:45.681885Z"
    }
   },
   "outputs": [],
   "source": [
    "autocorrelation_time_window = 10**5 # ms\n",
    "lags = np.array([1])"
   ]
  },
  {
   "cell_type": "code",
   "execution_count": 212,
   "metadata": {},
   "outputs": [],
   "source": [
    "log_ret = np.stack([numba_log_ret, trades_numpy[1:, 0]], axis=1)"
   ]
  },
  {
   "cell_type": "code",
   "execution_count": 214,
   "metadata": {},
   "outputs": [
    {
     "name": "stderr",
     "output_type": "stream",
     "text": [
      "100%|██████████| 10/10 [00:00<00:00, 35.02it/s]\n"
     ]
    }
   ],
   "source": [
    "numba_times = []\n",
    "\n",
    "for size in tqdm(trades_sizes_array):\n",
    "    start = time.perf_counter()\n",
    "    autocorrelations_per_lag = np.array(numba_data_autocorrelation(log_ret[:size], lags, autocorrelation_time_window))\n",
    "    end = time.perf_counter()\n",
    "    numba_times.append(end - start)"
   ]
  },
  {
   "cell_type": "code",
   "execution_count": null,
   "metadata": {},
   "outputs": [],
   "source": [
    "numpy_times = []\n",
    "\n",
    "for size in tqdm(trades_sizes_array):\n",
    "    start = time.perf_counter()\n",
    "    autocorrelations_per_lag = np.array(numpy_data_autocorrelation(log_ret[:size], lags, autocorrelation_time_window))\n",
    "    end = time.perf_counter()\n",
    "    numpy_times.append(end - start)"
   ]
  },
  {
   "cell_type": "code",
   "execution_count": null,
   "metadata": {},
   "outputs": [],
   "source": [
    "cupy_times = []\n",
    "\n",
    "for size in tqdm(trades_sizes_array):\n",
    "    start = time.perf_counter()\n",
    "    autocorrelations_per_lag = np.array(numpy_data_autocorrelation(log_ret[:size], lags, autocorrelation_time_window))\n",
    "    end = time.perf_counter()\n",
    "    cupy_times.append(end - start)"
   ]
  },
  {
   "cell_type": "markdown",
   "metadata": {},
   "source": [
    "### Realized kernel"
   ]
  },
  {
   "cell_type": "code",
   "execution_count": 218,
   "metadata": {},
   "outputs": [],
   "source": [
    "H = 3"
   ]
  },
  {
   "cell_type": "code",
   "execution_count": 221,
   "metadata": {},
   "outputs": [
    {
     "name": "stderr",
     "output_type": "stream",
     "text": [
      "  0%|          | 0/10 [00:00<?, ?it/s]"
     ]
    },
    {
     "name": "stderr",
     "output_type": "stream",
     "text": [
      "100%|██████████| 10/10 [00:01<00:00,  8.92it/s]\n"
     ]
    }
   ],
   "source": [
    "numba_times = []\n",
    "\n",
    "for size in tqdm(trades_sizes_array):\n",
    "    start = time.perf_counter()\n",
    "    realized_kernel_per_H = np.array(numba_data_realized_kernel(log_ret[:size], H, autocorrelation_time_window))\n",
    "    end = time.perf_counter()\n",
    "    numba_times.append(end - start)"
   ]
  },
  {
   "cell_type": "code",
   "execution_count": 222,
   "metadata": {},
   "outputs": [
    {
     "name": "stderr",
     "output_type": "stream",
     "text": [
      "100%|██████████| 10/10 [00:00<00:00, 13.67it/s]\n"
     ]
    }
   ],
   "source": [
    "numpy_times = []\n",
    "\n",
    "for size in tqdm(trades_sizes_array):\n",
    "    start = time.perf_counter()\n",
    "    realized_kernel_per_H = np.array(numpy_data_realized_kernel(log_ret[:size], H, autocorrelation_time_window))\n",
    "    end = time.perf_counter()\n",
    "    numpy_times.append(end - start)"
   ]
  },
  {
   "cell_type": "code",
   "execution_count": null,
   "metadata": {},
   "outputs": [],
   "source": [
    "cupy_times = []\n",
    "\n",
    "for size in tqdm(trades_sizes_array):\n",
    "    start = time.perf_counter()\n",
    "    realized_kernel_per_H = np.array(numpy_data_realized_kernel(log_ret[:size], H, autocorrelation_time_window))\n",
    "    end = time.perf_counter()\n",
    "    cupy_times.append(end - start)"
   ]
  }
 ],
 "metadata": {
  "kaggle": {
   "accelerator": "nvidiaTeslaT4",
   "dataSources": [],
   "dockerImageVersionId": 30627,
   "isGpuEnabled": true,
   "isInternetEnabled": true,
   "language": "python",
   "sourceType": "notebook"
  },
  "kernelspec": {
   "display_name": "Python 3 (ipykernel)",
   "language": "python",
   "name": "python3"
  },
  "language_info": {
   "codemirror_mode": {
    "name": "ipython",
    "version": 3
   },
   "file_extension": ".py",
   "mimetype": "text/x-python",
   "name": "python",
   "nbconvert_exporter": "python",
   "pygments_lexer": "ipython3",
   "version": "3.11.7"
  }
 },
 "nbformat": 4,
 "nbformat_minor": 4
}
