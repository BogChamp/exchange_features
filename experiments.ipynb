{
 "cells": [
  {
   "cell_type": "markdown",
   "metadata": {},
   "source": [
    "# Download packages"
   ]
  },
  {
   "cell_type": "code",
   "execution_count": null,
   "metadata": {},
   "outputs": [],
   "source": [
    "# !pip3 install gdown -q\n",
    "# !pip3 install polars -q\n",
    "# !pip3 install numba -q\n",
    "# !pip3 install numba-progress -q"
   ]
  },
  {
   "cell_type": "markdown",
   "metadata": {},
   "source": [
    "# Imports"
   ]
  },
  {
   "cell_type": "code",
   "execution_count": 11,
   "metadata": {
    "execution": {
     "iopub.execute_input": "2023-12-18T22:54:20.640199Z",
     "iopub.status.busy": "2023-12-18T22:54:20.639932Z",
     "iopub.status.idle": "2023-12-18T22:54:21.522432Z",
     "shell.execute_reply": "2023-12-18T22:54:21.521701Z",
     "shell.execute_reply.started": "2023-12-18T22:54:20.640173Z"
    }
   },
   "outputs": [
    {
     "name": "stdout",
     "output_type": "stream",
     "text": [
      "The autoreload extension is already loaded. To reload it, use:\n",
      "  %reload_ext autoreload\n"
     ]
    }
   ],
   "source": [
    "import gdown\n",
    "import numpy as np\n",
    "import cupy as cp\n",
    "import pandas as pd\n",
    "import polars as pl\n",
    "from tqdm import tqdm\n",
    "import matplotlib.pyplot as plt\n",
    "import numba as nb\n",
    "from numba import njit\n",
    "import time \n",
    "\n",
    "%load_ext autoreload"
   ]
  },
  {
   "cell_type": "code",
   "execution_count": 32,
   "metadata": {},
   "outputs": [],
   "source": [
    "from numba_functions import numba_imb, numba_calculate_past_returns\n",
    "from numpy_functions import numpy_imb, numpy_calculate_past_returns\n",
    "from cupy_functions import cupy_imb, cupy_calculate_past_returns\n",
    "%autoreload 2"
   ]
  },
  {
   "cell_type": "markdown",
   "metadata": {},
   "source": [
    "# Download data"
   ]
  },
  {
   "cell_type": "code",
   "execution_count": null,
   "metadata": {},
   "outputs": [],
   "source": [
    "url = \"https://drive.google.com/file/d/15E15XFVD8laDXNhw7uPpcPiWw-IGkYfv/view?usp=sharing\"\n",
    "output = 'book2h.parquet'\n",
    "gdown.download(url=url, output=output, fuzzy=True, quiet=True)\n",
    "\n",
    "url = \"https://drive.google.com/file/d/1iTOy1bcQlgyuz-V2U-zgCFfzOuRm7NyN/view?usp=sharing\"\n",
    "output = \"ticker2h.parquet\"\n",
    "gdown.download(url=url, output=output, fuzzy=True, quiet=True)\n",
    "\n",
    "url = \"https://drive.google.com/file/d/1Ro-3FbjQC2FDYIg1UZG7TIFEWOQkQ4uG/view?usp=sharing\"\n",
    "output = \"trades2h.parquet\"\n",
    "gdown.download(url=url, output=output, fuzzy=True, quiet=True)"
   ]
  },
  {
   "cell_type": "markdown",
   "metadata": {},
   "source": [
    "# Data Preparation"
   ]
  },
  {
   "cell_type": "code",
   "execution_count": 3,
   "metadata": {
    "execution": {
     "iopub.execute_input": "2023-12-18T22:54:26.334248Z",
     "iopub.status.busy": "2023-12-18T22:54:26.333619Z",
     "iopub.status.idle": "2023-12-18T22:54:39.435544Z",
     "shell.execute_reply": "2023-12-18T22:54:39.434628Z",
     "shell.execute_reply.started": "2023-12-18T22:54:26.334214Z"
    }
   },
   "outputs": [],
   "source": [
    "book = pl.read_parquet('book2h.parquet')\n",
    "ticker = pl.read_parquet('ticker2h.parquet')\n",
    "trades = pl.read_parquet('trades2h.parquet')"
   ]
  },
  {
   "cell_type": "code",
   "execution_count": 4,
   "metadata": {},
   "outputs": [],
   "source": [
    "book = book.set_sorted('local_ts').with_columns(\n",
    "    pl.from_epoch(pl.col(\"local_ts\"), time_unit=\"ns\"))\n",
    "\n",
    "ticker = ticker.set_sorted('local_ts').with_columns(\n",
    "    pl.from_epoch(pl.col(\"local_ts\"), time_unit=\"ns\"))\n",
    "\n",
    "trades = trades.set_sorted('local_ts').with_columns(\n",
    "    pl.from_epoch(pl.col(\"local_ts\"), time_unit=\"ns\"))"
   ]
  },
  {
   "cell_type": "markdown",
   "metadata": {},
   "source": [
    "# Feature generation"
   ]
  },
  {
   "cell_type": "markdown",
   "metadata": {},
   "source": [
    "### Improved order book imbalances"
   ]
  },
  {
   "cell_type": "code",
   "execution_count": 5,
   "metadata": {},
   "outputs": [],
   "source": [
    "start = time.perf_counter()\n",
    "tuples = np.array(numba_imb(book.to_numpy()))\n",
    "end = time.perf_counter()"
   ]
  },
  {
   "cell_type": "code",
   "execution_count": 6,
   "metadata": {},
   "outputs": [
    {
     "name": "stdout",
     "output_type": "stream",
     "text": [
      "numba time: 4.000843027002702\n"
     ]
    }
   ],
   "source": [
    "elapsed_time = end - start\n",
    "print('numba time:', elapsed_time)"
   ]
  },
  {
   "cell_type": "code",
   "execution_count": 7,
   "metadata": {},
   "outputs": [],
   "source": [
    "start = time.perf_counter()\n",
    "tuples = np.array(numba_imb(book.to_numpy()))\n",
    "end = time.perf_counter()"
   ]
  },
  {
   "cell_type": "code",
   "execution_count": 8,
   "metadata": {},
   "outputs": [
    {
     "name": "stdout",
     "output_type": "stream",
     "text": [
      "numba time after compilation: 0.67423188900284\n"
     ]
    }
   ],
   "source": [
    "elapsed_time = end - start\n",
    "print('numba time after compilation:', elapsed_time)"
   ]
  },
  {
   "cell_type": "code",
   "execution_count": 9,
   "metadata": {
    "execution": {
     "iopub.execute_input": "2023-12-18T22:54:52.469344Z",
     "iopub.status.busy": "2023-12-18T22:54:52.468418Z",
     "iopub.status.idle": "2023-12-18T22:54:52.484202Z",
     "shell.execute_reply": "2023-12-18T22:54:52.483314Z",
     "shell.execute_reply.started": "2023-12-18T22:54:52.469309Z"
    }
   },
   "outputs": [],
   "source": [
    "start = time.perf_counter()\n",
    "tuples = np.array(numpy_imb(book.to_numpy()))\n",
    "end = time.perf_counter()"
   ]
  },
  {
   "cell_type": "code",
   "execution_count": 10,
   "metadata": {},
   "outputs": [
    {
     "name": "stdout",
     "output_type": "stream",
     "text": [
      "numpy time: 47.56558579999546\n"
     ]
    }
   ],
   "source": [
    "elapsed_time = end - start\n",
    "print('numpy time:', elapsed_time)"
   ]
  },
  {
   "cell_type": "code",
   "execution_count": 17,
   "metadata": {
    "execution": {
     "iopub.execute_input": "2023-12-18T23:02:37.748468Z",
     "iopub.status.busy": "2023-12-18T23:02:37.748073Z",
     "iopub.status.idle": "2023-12-18T23:02:37.767677Z",
     "shell.execute_reply": "2023-12-18T23:02:37.766393Z",
     "shell.execute_reply.started": "2023-12-18T23:02:37.748436Z"
    }
   },
   "outputs": [
    {
     "name": "stderr",
     "output_type": "stream",
     "text": [
      "  0%|          | 0/177479 [00:00<?, ?it/s]100%|██████████| 177479/177479 [08:50<00:00, 334.36it/s]\n"
     ]
    }
   ],
   "source": [
    "start = time.perf_counter()\n",
    "tuples = np.array(cupy_imb(book.to_numpy()))\n",
    "end = time.perf_counter()"
   ]
  },
  {
   "cell_type": "code",
   "execution_count": 18,
   "metadata": {},
   "outputs": [
    {
     "name": "stdout",
     "output_type": "stream",
     "text": [
      "cupy time: 531.0967542989965\n"
     ]
    }
   ],
   "source": [
    "elapsed_time = end - start\n",
    "print('cupy time:', elapsed_time)"
   ]
  },
  {
   "cell_type": "code",
   "execution_count": 19,
   "metadata": {
    "execution": {
     "iopub.execute_input": "2023-12-18T23:07:58.069320Z",
     "iopub.status.busy": "2023-12-18T23:07:58.068360Z",
     "iopub.status.idle": "2023-12-18T23:07:58.075904Z",
     "shell.execute_reply": "2023-12-18T23:07:58.074939Z",
     "shell.execute_reply.started": "2023-12-18T23:07:58.069287Z"
    }
   },
   "outputs": [],
   "source": [
    "past_returns_window = 100\n",
    "\n",
    "averaged_trades = trades.with_columns(\n",
    "    ((pl.col('amount') * pl.col('price')).rolling_sum(\n",
    "        window_size=f\"{past_returns_window}ms\", by=\"local_ts\", \n",
    "        closed=\"right\") / pl.col('amount').rolling_sum(\n",
    "        window_size=f\"{past_returns_window}ms\", by=\"local_ts\", \n",
    "        closed=\"right\")).alias(f\"averaged_{past_returns_window}ms\")).select(\n",
    "    [\"local_ts\", f\"averaged_{past_returns_window}ms\"])\n",
    "\n",
    "averaged_trades_numpy = averaged_trades.with_columns(\n",
    "    pl.col('local_ts').dt.timestamp('ns')).to_numpy()"
   ]
  },
  {
   "cell_type": "code",
   "execution_count": 23,
   "metadata": {},
   "outputs": [],
   "source": [
    "start = time.perf_counter()\n",
    "res = numba_calculate_past_returns(averaged_trades_numpy, 500)\n",
    "end = time.perf_counter()"
   ]
  },
  {
   "cell_type": "code",
   "execution_count": 24,
   "metadata": {},
   "outputs": [
    {
     "name": "stdout",
     "output_type": "stream",
     "text": [
      "numba time: 0.9871162130002631\n"
     ]
    }
   ],
   "source": [
    "elapsed_time = end - start\n",
    "print('numba time:', elapsed_time)"
   ]
  },
  {
   "cell_type": "code",
   "execution_count": 25,
   "metadata": {},
   "outputs": [],
   "source": [
    "start = time.perf_counter()\n",
    "res = numba_calculate_past_returns(averaged_trades_numpy, 500)\n",
    "end = time.perf_counter()"
   ]
  },
  {
   "cell_type": "code",
   "execution_count": 26,
   "metadata": {},
   "outputs": [
    {
     "name": "stdout",
     "output_type": "stream",
     "text": [
      "numba time after compilation: 0.06951532699895324\n"
     ]
    }
   ],
   "source": [
    "elapsed_time = end - start\n",
    "print('numba time after compilation:', elapsed_time)"
   ]
  },
  {
   "cell_type": "code",
   "execution_count": 29,
   "metadata": {},
   "outputs": [],
   "source": [
    "start = time.perf_counter()\n",
    "res = numpy_calculate_past_returns(averaged_trades_numpy, 500)\n",
    "end = time.perf_counter()"
   ]
  },
  {
   "cell_type": "code",
   "execution_count": 30,
   "metadata": {},
   "outputs": [
    {
     "name": "stdout",
     "output_type": "stream",
     "text": [
      "numpy time: 0.8855756260018097\n"
     ]
    }
   ],
   "source": [
    "elapsed_time = end - start\n",
    "print('numpy time:', elapsed_time)"
   ]
  },
  {
   "cell_type": "code",
   "execution_count": 33,
   "metadata": {},
   "outputs": [],
   "source": [
    "start = time.perf_counter()\n",
    "res = cupy_calculate_past_returns(averaged_trades_numpy, 500)\n",
    "end = time.perf_counter()"
   ]
  },
  {
   "cell_type": "code",
   "execution_count": 34,
   "metadata": {},
   "outputs": [
    {
     "name": "stdout",
     "output_type": "stream",
     "text": [
      "cupy time: 27.944686636998085\n"
     ]
    }
   ],
   "source": [
    "elapsed_time = end - start\n",
    "print('cupy time:', elapsed_time)"
   ]
  },
  {
   "cell_type": "markdown",
   "metadata": {},
   "source": [
    "### Autocorrelation"
   ]
  },
  {
   "cell_type": "code",
   "execution_count": 29,
   "metadata": {
    "execution": {
     "iopub.execute_input": "2023-12-18T23:11:45.681923Z",
     "iopub.status.busy": "2023-12-18T23:11:45.681524Z",
     "iopub.status.idle": "2023-12-18T23:11:45.686566Z",
     "shell.execute_reply": "2023-12-18T23:11:45.685678Z",
     "shell.execute_reply.started": "2023-12-18T23:11:45.681885Z"
    }
   },
   "outputs": [],
   "source": [
    "autocorrelation_time_window = 10**5 # ms"
   ]
  },
  {
   "cell_type": "code",
   "execution_count": null,
   "metadata": {},
   "outputs": [],
   "source": [
    "trades_log_returns = trades.select(['local_ts', 'log_return']).with_columns(\n",
    "    pl.col('local_ts').dt.timestamp('ns')).to_numpy()"
   ]
  },
  {
   "cell_type": "code",
   "execution_count": 30,
   "metadata": {
    "execution": {
     "iopub.execute_input": "2023-12-18T23:11:47.016426Z",
     "iopub.status.busy": "2023-12-18T23:11:47.015737Z",
     "iopub.status.idle": "2023-12-18T23:11:47.024792Z",
     "shell.execute_reply": "2023-12-18T23:11:47.023776Z",
     "shell.execute_reply.started": "2023-12-18T23:11:47.016390Z"
    }
   },
   "outputs": [],
   "source": [
    "trades_log_returns_2h = trades_2h.select(['local_ts', 'log_return']).with_columns(\n",
    "    pl.col('local_ts').dt.timestamp('ns')).to_numpy()"
   ]
  },
  {
   "cell_type": "code",
   "execution_count": 35,
   "metadata": {
    "execution": {
     "iopub.execute_input": "2023-12-18T23:13:12.248057Z",
     "iopub.status.busy": "2023-12-18T23:13:12.247674Z",
     "iopub.status.idle": "2023-12-18T23:13:12.261315Z",
     "shell.execute_reply": "2023-12-18T23:13:12.260331Z",
     "shell.execute_reply.started": "2023-12-18T23:13:12.248026Z"
    }
   },
   "outputs": [],
   "source": [
    "autocorrelation_time_window = 10**5 # ms\n"
   ]
  },
  {
   "cell_type": "code",
   "execution_count": 37,
   "metadata": {
    "execution": {
     "iopub.execute_input": "2023-12-18T23:13:34.386293Z",
     "iopub.status.busy": "2023-12-18T23:13:34.385517Z",
     "iopub.status.idle": "2023-12-18T23:13:34.398627Z",
     "shell.execute_reply": "2023-12-18T23:13:34.397783Z",
     "shell.execute_reply.started": "2023-12-18T23:13:34.386260Z"
    }
   },
   "outputs": [],
   "source": []
  },
  {
   "cell_type": "code",
   "execution_count": 48,
   "metadata": {
    "execution": {
     "iopub.execute_input": "2023-12-18T23:16:26.689189Z",
     "iopub.status.busy": "2023-12-18T23:16:26.688806Z",
     "iopub.status.idle": "2023-12-18T23:16:26.699654Z",
     "shell.execute_reply": "2023-12-18T23:16:26.698733Z",
     "shell.execute_reply.started": "2023-12-18T23:16:26.689159Z"
    }
   },
   "outputs": [],
   "source": []
  },
  {
   "cell_type": "code",
   "execution_count": null,
   "metadata": {},
   "outputs": [],
   "source": [
    "lags = np.array([1])\n",
    "autocorrelations_per_lag = []\n",
    "\n",
    "autocorrelations_per_lag = data_autocorrelation(\n",
    "    trades_log_returns, lags, autocorrelation_time_window)"
   ]
  },
  {
   "cell_type": "code",
   "execution_count": null,
   "metadata": {},
   "outputs": [],
   "source": [
    "trades = trades.with_columns([pl.Series(autocorrelations_per_lag[i]).alias(\n",
    "    f\"auto_corr{v}lag\").clip(-1, 1) for i, v in enumerate(lags)])"
   ]
  },
  {
   "cell_type": "code",
   "execution_count": 52,
   "metadata": {
    "execution": {
     "iopub.execute_input": "2023-12-18T23:18:02.555746Z",
     "iopub.status.busy": "2023-12-18T23:18:02.554837Z",
     "iopub.status.idle": "2023-12-18T23:18:02.589471Z",
     "shell.execute_reply": "2023-12-18T23:18:02.588341Z",
     "shell.execute_reply.started": "2023-12-18T23:18:02.555711Z"
    }
   },
   "outputs": [
    {
     "name": "stdout",
     "output_type": "stream",
     "text": [
      "CPU times: user 21.3 ms, sys: 7.02 ms, total: 28.3 ms\n",
      "Wall time: 27.9 ms\n"
     ]
    }
   ],
   "source": [
    "%%time\n",
    "lags_2h = np.array([1])\n",
    "autocorrelations_per_lag_2h = []\n",
    "\n",
    "autocorrelations_per_lag_2h = data_autocorrelation(\n",
    "    trades_log_returns_2h, lags_2h, autocorrelation_time_window)"
   ]
  },
  {
   "cell_type": "code",
   "execution_count": 40,
   "metadata": {
    "execution": {
     "iopub.execute_input": "2023-12-18T23:14:05.581609Z",
     "iopub.status.busy": "2023-12-18T23:14:05.581249Z",
     "iopub.status.idle": "2023-12-18T23:14:25.606029Z",
     "shell.execute_reply": "2023-12-18T23:14:25.604977Z",
     "shell.execute_reply.started": "2023-12-18T23:14:05.581583Z"
    }
   },
   "outputs": [
    {
     "name": "stdout",
     "output_type": "stream",
     "text": [
      "CPU times: user 20 s, sys: 4.95 ms, total: 20 s\n",
      "Wall time: 20 s\n"
     ]
    }
   ],
   "source": [
    "%%time\n",
    "lags_2h = np.array([1])\n",
    "autocorrelations_per_lag_2h = []\n",
    "\n",
    "autocorrelations_per_lag_2h = data_autocorrelation_numpy(\n",
    "    trades_log_returns_2h, lags_2h, autocorrelation_time_window)"
   ]
  },
  {
   "cell_type": "code",
   "execution_count": 50,
   "metadata": {
    "execution": {
     "iopub.execute_input": "2023-12-18T23:17:16.797498Z",
     "iopub.status.busy": "2023-12-18T23:17:16.797086Z",
     "iopub.status.idle": "2023-12-18T23:17:16.824911Z",
     "shell.execute_reply": "2023-12-18T23:17:16.824124Z",
     "shell.execute_reply.started": "2023-12-18T23:17:16.797455Z"
    }
   },
   "outputs": [
    {
     "ename": "AssertionError",
     "evalue": "",
     "output_type": "error",
     "traceback": [
      "\u001b[0;31m---------------------------------------------------------------------------\u001b[0m",
      "\u001b[0;31mAssertionError\u001b[0m                            Traceback (most recent call last)",
      "File \u001b[0;32m<timed exec>:4\u001b[0m\n",
      "File \u001b[0;32mcupy/_core/fusion.pyx:882\u001b[0m, in \u001b[0;36mcupy._core.fusion.Fusion.__call__\u001b[0;34m()\u001b[0m\n",
      "\u001b[0;31mAssertionError\u001b[0m: "
     ]
    }
   ],
   "source": [
    "%%time\n",
    "lags_2h = cp.array([1])\n",
    "autocorrelations_per_lag_2h = []\n",
    "\n",
    "autocorrelations_per_lag_2h = data_autocorrelation_cupy(\n",
    "    trades_log_returns_2h, lags_2h, autocorrelation_time_window)"
   ]
  },
  {
   "cell_type": "code",
   "execution_count": 53,
   "metadata": {
    "execution": {
     "iopub.execute_input": "2023-12-18T23:18:04.779758Z",
     "iopub.status.busy": "2023-12-18T23:18:04.779062Z",
     "iopub.status.idle": "2023-12-18T23:18:04.803138Z",
     "shell.execute_reply": "2023-12-18T23:18:04.802196Z",
     "shell.execute_reply.started": "2023-12-18T23:18:04.779725Z"
    }
   },
   "outputs": [],
   "source": [
    "trades_2h = trades_2h.with_columns([pl.Series(autocorrelations_per_lag_2h[i]).alias(\n",
    "    f\"auto_corr{v}lag\").clip(-1, 1) for i, v in enumerate(lags_2h)])"
   ]
  },
  {
   "cell_type": "code",
   "execution_count": null,
   "metadata": {},
   "outputs": [],
   "source": [
    "trades.head(), trades_2h.head()"
   ]
  },
  {
   "cell_type": "code",
   "execution_count": null,
   "metadata": {},
   "outputs": [],
   "source": []
  },
  {
   "cell_type": "markdown",
   "metadata": {},
   "source": [
    "### Realized kernel"
   ]
  },
  {
   "cell_type": "code",
   "execution_count": 57,
   "metadata": {
    "execution": {
     "iopub.execute_input": "2023-12-18T23:18:21.289921Z",
     "iopub.status.busy": "2023-12-18T23:18:21.289527Z",
     "iopub.status.idle": "2023-12-18T23:18:21.302855Z",
     "shell.execute_reply": "2023-12-18T23:18:21.301957Z",
     "shell.execute_reply.started": "2023-12-18T23:18:21.289880Z"
    }
   },
   "outputs": [],
   "source": [
    "realized_kernel_time_window = 10**5 # ms\n",
    "\n",
    "@njit\n",
    "def shift(xs, n):\n",
    "    if n == 0:\n",
    "        return xs.copy()\n",
    "    e = np.empty_like(xs, np.float64)\n",
    "    e[:n] = 0.0\n",
    "    e[n:] = xs[:-n]\n",
    "    return e\n",
    "\n",
    "@njit\n",
    "def parzen_kernel(x):\n",
    "    x = abs(x)\n",
    "    if x >= 1:\n",
    "        return 0\n",
    "    elif x >= 0.5:\n",
    "        return 2 * (1 - x)**3\n",
    "    else:\n",
    "        return 1 - 6 * x**2 * (1 - x)\n",
    "\n",
    "@njit(nogil=True)\n",
    "def data_realized_kernel(time_series, \n",
    "                         H, \n",
    "                         time_window,\n",
    "                         progress_hook):\n",
    "\n",
    "    autocorrelations = [0.0 for l in range(time_series.shape[0])]\n",
    "    \n",
    "    ts = time_series[:, 0]\n",
    "    prices = time_series[:, 1]\n",
    "    \n",
    "    lag_prices_prod = [np.cumsum(prices * shift(prices, lag)) for lag in range(H+1)]\n",
    "    kernel_values = [parzen_kernel(k / H) for k in range(1, H + 1)]\n",
    "\n",
    "    start_index = 0\n",
    "    delta_ms = time_window * 10**6\n",
    "\n",
    "    for i, v in enumerate(ts):\n",
    "        while (v - ts[start_index]) > delta_ms:\n",
    "            start_index += 1\n",
    "        \n",
    "        if start_index == 0:\n",
    "            autocorrelations[i] = 0\n",
    "        else:\n",
    "            kernel_range = min(i + 1 - start_index, H)\n",
    "            res = lag_prices_prod[0][i] - lag_prices_prod[0][start_index - 1]\n",
    "            for j in range(1, kernel_range+1):\n",
    "                res += 2 * kernel_values[j - 1] * (lag_prices_prod[j][i] - \\\n",
    "                                            lag_prices_prod[j][start_index + j - 1])\n",
    "            autocorrelations[i] = res\n",
    "        \n",
    "        progress_hook.update(1)\n",
    "    \n",
    "    return autocorrelations"
   ]
  },
  {
   "cell_type": "code",
   "execution_count": 61,
   "metadata": {
    "execution": {
     "iopub.execute_input": "2023-12-18T23:21:52.561665Z",
     "iopub.status.busy": "2023-12-18T23:21:52.560851Z",
     "iopub.status.idle": "2023-12-18T23:21:52.573210Z",
     "shell.execute_reply": "2023-12-18T23:21:52.572342Z",
     "shell.execute_reply.started": "2023-12-18T23:21:52.561628Z"
    }
   },
   "outputs": [],
   "source": [
    "@cp.fuse()\n",
    "def shift(xs, n):\n",
    "    if n == 0:\n",
    "        return xs.copy()\n",
    "    e = np.empty_like(xs, dtype=np.float64)\n",
    "    e[:n] = 0.0\n",
    "    e[n:] = xs[:-n]\n",
    "    return e\n",
    "\n",
    "@cp.fuse()\n",
    "def parzen_kernel(x):\n",
    "    x = np.abs(x)\n",
    "    if x >= 1:\n",
    "        return 0\n",
    "    elif x >= 0.5:\n",
    "        return 2 * (1 - x)**3\n",
    "    else:\n",
    "        return 1 - 6 * x**2 * (1 - x)\n",
    "    \n",
    "@cp.fuse()\n",
    "def data_realized_kernel_numpy(time_series, H, time_window, progress_hook):\n",
    "    autocorrelations = np.zeros(time_series.shape[0], dtype=np.float64)\n",
    "    \n",
    "    ts = time_series[:, 0]\n",
    "    prices = time_series[:, 1]\n",
    "    \n",
    "    lag_prices_prod = [np.cumsum(prices * shift(prices, lag)) for lag in range(H + 1)]\n",
    "    kernel_values = [parzen_kernel(k / H) for k in range(1, H + 1)]\n",
    "\n",
    "    start_index = 0\n",
    "    delta_ms = time_window * 10**6\n",
    "\n",
    "    for i, v in enumerate(ts):\n",
    "        while (v - ts[start_index]) > delta_ms:\n",
    "            start_index += 1\n",
    "        \n",
    "        if start_index == 0:\n",
    "            autocorrelations[i] = 0\n",
    "        else:\n",
    "            kernel_range = min(i + 1 - start_index, H)\n",
    "            res = lag_prices_prod[0][i] - lag_prices_prod[0][start_index - 1]\n",
    "            for j in range(1, kernel_range + 1):\n",
    "                res += 2 * kernel_values[j - 1] * (lag_prices_prod[j][i] - lag_prices_prod[j][start_index + j - 1])\n",
    "            autocorrelations[i] = res\n",
    "        progress_hook.update(1)\n",
    "    \n",
    "    return autocorrelations"
   ]
  },
  {
   "cell_type": "code",
   "execution_count": 65,
   "metadata": {
    "execution": {
     "iopub.execute_input": "2023-12-18T23:23:54.589688Z",
     "iopub.status.busy": "2023-12-18T23:23:54.589022Z",
     "iopub.status.idle": "2023-12-18T23:23:54.601581Z",
     "shell.execute_reply": "2023-12-18T23:23:54.600776Z",
     "shell.execute_reply.started": "2023-12-18T23:23:54.589654Z"
    }
   },
   "outputs": [],
   "source": [
    "def shift_cupy(xs, n):\n",
    "    if n == 0:\n",
    "        return xs.copy()\n",
    "    e = cp.empty_like(xs, dtype=cp.float64)\n",
    "    e[:n] = 0.0\n",
    "    e[n:] = xs[:-n]\n",
    "    return e\n",
    "\n",
    "def parzen_kernel_cupy(x):\n",
    "    x = cp.abs(x)\n",
    "    if x >= 1:\n",
    "        return 0\n",
    "    elif x >= 0.5:\n",
    "        return 2 * (1 - x)**3\n",
    "    else:\n",
    "        return 1 - 6 * x**2 * (1 - x)\n",
    "    \n",
    "def data_realized_kernel_cupy(time_series, H, time_window, progress_hook):\n",
    "    autocorrelations = cp.zeros(time_series.shape[0], dtype=cp.float64)\n",
    "    \n",
    "    ts = time_series[:, 0]\n",
    "    prices = time_series[:, 1]\n",
    "    \n",
    "    lag_prices_prod = [cp.cumsum(prices * shift_cupy(prices, lag)) for lag in range(H + 1)]\n",
    "    kernel_values = [parzen_kernel_cupy(k / H) for k in range(1, H + 1)]\n",
    "\n",
    "    start_index = 0\n",
    "    delta_ms = time_window * 10**6\n",
    "\n",
    "    for i, v in enumerate(ts):\n",
    "        while (v - ts[start_index]) > delta_ms:\n",
    "            start_index += 1\n",
    "        \n",
    "        if start_index == 0:\n",
    "            autocorrelations[i] = 0\n",
    "        else:\n",
    "            kernel_range = min(i + 1 - start_index, H)\n",
    "            res = lag_prices_prod[0][i] - lag_prices_prod[0][start_index - 1]\n",
    "            for j in range(1, kernel_range + 1):\n",
    "                res += 2 * kernel_values[j - 1] * (lag_prices_prod[j][i] - lag_prices_prod[j][start_index + j - 1])\n",
    "            autocorrelations[i] = res\n",
    "        \n",
    "        progress_hook.update(1)\n",
    "    \n",
    "    return cp.asnumpy(autocorrelations)"
   ]
  },
  {
   "cell_type": "code",
   "execution_count": null,
   "metadata": {},
   "outputs": [],
   "source": []
  },
  {
   "cell_type": "code",
   "execution_count": null,
   "metadata": {},
   "outputs": [],
   "source": []
  },
  {
   "cell_type": "code",
   "execution_count": null,
   "metadata": {},
   "outputs": [],
   "source": [
    "H = 3\n",
    "realized_kernel_per_H = []\n",
    "# realized_kernel_spot_per_H = []\n",
    "\n",
    "with ProgressBar(total=len(trades_log_returns)) as numba_progress:\n",
    "    realized_kernel_per_H = data_realized_kernel(\n",
    "        trades_log_returns, H, realized_kernel_time_window, numba_progress)"
   ]
  },
  {
   "cell_type": "code",
   "execution_count": null,
   "metadata": {},
   "outputs": [],
   "source": [
    "trades = trades.with_columns(pl.Series(\n",
    "    realized_kernel_per_H).alias(f\"real_kernel_H{H}\"))"
   ]
  },
  {
   "cell_type": "code",
   "execution_count": 58,
   "metadata": {
    "execution": {
     "iopub.execute_input": "2023-12-18T23:18:24.185672Z",
     "iopub.status.busy": "2023-12-18T23:18:24.184649Z",
     "iopub.status.idle": "2023-12-18T23:18:25.310548Z",
     "shell.execute_reply": "2023-12-18T23:18:25.309561Z",
     "shell.execute_reply.started": "2023-12-18T23:18:24.185635Z"
    }
   },
   "outputs": [
    {
     "data": {
      "application/vnd.jupyter.widget-view+json": {
       "model_id": "82e969bb8c944ee299b85ac2fe30c785",
       "version_major": 2,
       "version_minor": 0
      },
      "text/plain": [
       "  0%|          | 0/319851 [00:00<?, ?it/s]"
      ]
     },
     "metadata": {},
     "output_type": "display_data"
    }
   ],
   "source": [
    "H = 3\n",
    "realized_kernel_per_H_2h = []\n",
    "\n",
    "with ProgressBar(total=len(trades_log_returns_2h)) as numba_progress:\n",
    "    realized_kernel_per_H_2h = data_realized_kernel(\n",
    "        trades_log_returns_2h, H, realized_kernel_time_window, numba_progress)"
   ]
  },
  {
   "cell_type": "code",
   "execution_count": 63,
   "metadata": {
    "execution": {
     "iopub.execute_input": "2023-12-18T23:23:31.709373Z",
     "iopub.status.busy": "2023-12-18T23:23:31.708351Z",
     "iopub.status.idle": "2023-12-18T23:23:34.184669Z",
     "shell.execute_reply": "2023-12-18T23:23:34.121773Z",
     "shell.execute_reply.started": "2023-12-18T23:23:31.709335Z"
    }
   },
   "outputs": [
    {
     "data": {
      "application/vnd.jupyter.widget-view+json": {
       "model_id": "e69678975837460c85e403582c7120a5",
       "version_major": 2,
       "version_minor": 0
      },
      "text/plain": [
       "  0%|          | 0/319851 [00:00<?, ?it/s]"
      ]
     },
     "metadata": {},
     "output_type": "display_data"
    },
    {
     "ename": "KeyboardInterrupt",
     "evalue": "",
     "output_type": "error",
     "traceback": [
      "\u001b[0;31m---------------------------------------------------------------------------\u001b[0m",
      "\u001b[0;31mKeyboardInterrupt\u001b[0m                         Traceback (most recent call last)",
      "Cell \u001b[0;32mIn[63], line 2\u001b[0m\n\u001b[1;32m      1\u001b[0m H \u001b[38;5;241m=\u001b[39m \u001b[38;5;241m3\u001b[39m\n\u001b[0;32m----> 2\u001b[0m realized_kernel_per_H_2h \u001b[38;5;241m=\u001b[39m \u001b[43mdata_realized_kernel_numpy\u001b[49m\u001b[43m(\u001b[49m\n\u001b[1;32m      3\u001b[0m \u001b[43m    \u001b[49m\u001b[43mtrades_log_returns_2h\u001b[49m\u001b[43m,\u001b[49m\u001b[43m \u001b[49m\u001b[43mH\u001b[49m\u001b[43m,\u001b[49m\u001b[43m \u001b[49m\u001b[43mrealized_kernel_time_window\u001b[49m\u001b[43m,\u001b[49m\u001b[43m \u001b[49m\u001b[43mProgressBar\u001b[49m\u001b[43m(\u001b[49m\u001b[43mtotal\u001b[49m\u001b[38;5;241;43m=\u001b[39;49m\u001b[38;5;28;43mlen\u001b[39;49m\u001b[43m(\u001b[49m\u001b[43mtrades_log_returns_2h\u001b[49m\u001b[43m)\u001b[49m\u001b[43m)\u001b[49m\u001b[43m)\u001b[49m\n",
      "Cell \u001b[0;32mIn[61], line 44\u001b[0m, in \u001b[0;36mdata_realized_kernel_numpy\u001b[0;34m(time_series, H, time_window, progress_hook)\u001b[0m\n\u001b[1;32m     42\u001b[0m             res \u001b[38;5;241m+\u001b[39m\u001b[38;5;241m=\u001b[39m \u001b[38;5;241m2\u001b[39m \u001b[38;5;241m*\u001b[39m kernel_values[j \u001b[38;5;241m-\u001b[39m \u001b[38;5;241m1\u001b[39m] \u001b[38;5;241m*\u001b[39m (lag_prices_prod[j][i] \u001b[38;5;241m-\u001b[39m lag_prices_prod[j][start_index \u001b[38;5;241m+\u001b[39m j \u001b[38;5;241m-\u001b[39m \u001b[38;5;241m1\u001b[39m])\n\u001b[1;32m     43\u001b[0m         autocorrelations[i] \u001b[38;5;241m=\u001b[39m res\n\u001b[0;32m---> 44\u001b[0m     \u001b[43mprogress_hook\u001b[49m\u001b[38;5;241;43m.\u001b[39;49m\u001b[43mupdate\u001b[49m\u001b[43m(\u001b[49m\u001b[38;5;241;43m1\u001b[39;49m\u001b[43m)\u001b[49m\n\u001b[1;32m     46\u001b[0m \u001b[38;5;28;01mreturn\u001b[39;00m autocorrelations\n",
      "File \u001b[0;32m/opt/conda/lib/python3.10/site-packages/numba_progress/progress.py:104\u001b[0m, in \u001b[0;36mProgressBar.update\u001b[0;34m(self, n)\u001b[0m\n\u001b[1;32m    102\u001b[0m \u001b[38;5;28;01mdef\u001b[39;00m \u001b[38;5;21mupdate\u001b[39m(\u001b[38;5;28mself\u001b[39m, n\u001b[38;5;241m=\u001b[39m\u001b[38;5;241m1\u001b[39m):\n\u001b[1;32m    103\u001b[0m     atomic_add(\u001b[38;5;28mself\u001b[39m\u001b[38;5;241m.\u001b[39mhook, \u001b[38;5;241m0\u001b[39m, n)\n\u001b[0;32m--> 104\u001b[0m     \u001b[38;5;28;43mself\u001b[39;49m\u001b[38;5;241;43m.\u001b[39;49m\u001b[43m_update_tqdm\u001b[49m\u001b[43m(\u001b[49m\u001b[43m)\u001b[49m\n",
      "File \u001b[0;32m/opt/conda/lib/python3.10/site-packages/numba_progress/progress.py:111\u001b[0m, in \u001b[0;36mProgressBar._update_tqdm\u001b[0;34m(self)\u001b[0m\n\u001b[1;32m    108\u001b[0m \u001b[38;5;66;03m#diff = value - self._last_value\u001b[39;00m\n\u001b[1;32m    109\u001b[0m \u001b[38;5;66;03m#self._last_value = value\u001b[39;00m\n\u001b[1;32m    110\u001b[0m \u001b[38;5;28mself\u001b[39m\u001b[38;5;241m.\u001b[39m_tqdm\u001b[38;5;241m.\u001b[39mn \u001b[38;5;241m=\u001b[39m value\n\u001b[0;32m--> 111\u001b[0m \u001b[38;5;28;43mself\u001b[39;49m\u001b[38;5;241;43m.\u001b[39;49m\u001b[43m_tqdm\u001b[49m\u001b[38;5;241;43m.\u001b[39;49m\u001b[43mrefresh\u001b[49m\u001b[43m(\u001b[49m\u001b[43m)\u001b[49m\n",
      "File \u001b[0;32m/opt/conda/lib/python3.10/site-packages/tqdm/std.py:1348\u001b[0m, in \u001b[0;36mtqdm.refresh\u001b[0;34m(self, nolock, lock_args)\u001b[0m\n\u001b[1;32m   1346\u001b[0m     \u001b[38;5;28;01melse\u001b[39;00m:\n\u001b[1;32m   1347\u001b[0m         \u001b[38;5;28mself\u001b[39m\u001b[38;5;241m.\u001b[39m_lock\u001b[38;5;241m.\u001b[39macquire()\n\u001b[0;32m-> 1348\u001b[0m \u001b[38;5;28;43mself\u001b[39;49m\u001b[38;5;241;43m.\u001b[39;49m\u001b[43mdisplay\u001b[49m\u001b[43m(\u001b[49m\u001b[43m)\u001b[49m\n\u001b[1;32m   1349\u001b[0m \u001b[38;5;28;01mif\u001b[39;00m \u001b[38;5;129;01mnot\u001b[39;00m nolock:\n\u001b[1;32m   1350\u001b[0m     \u001b[38;5;28mself\u001b[39m\u001b[38;5;241m.\u001b[39m_lock\u001b[38;5;241m.\u001b[39mrelease()\n",
      "File \u001b[0;32m/opt/conda/lib/python3.10/site-packages/tqdm/notebook.py:157\u001b[0m, in \u001b[0;36mtqdm_notebook.display\u001b[0;34m(self, msg, pos, close, bar_style, check_delay)\u001b[0m\n\u001b[1;32m    154\u001b[0m     msg \u001b[38;5;241m=\u001b[39m \u001b[38;5;28mself\u001b[39m\u001b[38;5;241m.\u001b[39mformat_meter(\u001b[38;5;241m*\u001b[39m\u001b[38;5;241m*\u001b[39md)\n\u001b[1;32m    156\u001b[0m ltext, pbar, rtext \u001b[38;5;241m=\u001b[39m \u001b[38;5;28mself\u001b[39m\u001b[38;5;241m.\u001b[39mcontainer\u001b[38;5;241m.\u001b[39mchildren\n\u001b[0;32m--> 157\u001b[0m \u001b[43mpbar\u001b[49m\u001b[38;5;241;43m.\u001b[39;49m\u001b[43mvalue\u001b[49m \u001b[38;5;241m=\u001b[39m \u001b[38;5;28mself\u001b[39m\u001b[38;5;241m.\u001b[39mn\n\u001b[1;32m    159\u001b[0m \u001b[38;5;28;01mif\u001b[39;00m msg:\n\u001b[1;32m    160\u001b[0m     \u001b[38;5;66;03m# html escape special characters (like '&')\u001b[39;00m\n\u001b[1;32m    161\u001b[0m     \u001b[38;5;28;01mif\u001b[39;00m \u001b[38;5;124m'\u001b[39m\u001b[38;5;124m<bar/>\u001b[39m\u001b[38;5;124m'\u001b[39m \u001b[38;5;129;01min\u001b[39;00m msg:\n",
      "File \u001b[0;32m/opt/conda/lib/python3.10/site-packages/traitlets/traitlets.py:732\u001b[0m, in \u001b[0;36mTraitType.__set__\u001b[0;34m(self, obj, value)\u001b[0m\n\u001b[1;32m    730\u001b[0m     \u001b[38;5;28;01mraise\u001b[39;00m TraitError(\u001b[38;5;124m'\u001b[39m\u001b[38;5;124mThe \u001b[39m\u001b[38;5;124m\"\u001b[39m\u001b[38;5;132;01m%s\u001b[39;00m\u001b[38;5;124m\"\u001b[39m\u001b[38;5;124m trait is read-only.\u001b[39m\u001b[38;5;124m'\u001b[39m \u001b[38;5;241m%\u001b[39m \u001b[38;5;28mself\u001b[39m\u001b[38;5;241m.\u001b[39mname)\n\u001b[1;32m    731\u001b[0m \u001b[38;5;28;01melse\u001b[39;00m:\n\u001b[0;32m--> 732\u001b[0m     \u001b[38;5;28;43mself\u001b[39;49m\u001b[38;5;241;43m.\u001b[39;49m\u001b[43mset\u001b[49m\u001b[43m(\u001b[49m\u001b[43mobj\u001b[49m\u001b[43m,\u001b[49m\u001b[43m \u001b[49m\u001b[43mvalue\u001b[49m\u001b[43m)\u001b[49m\n",
      "File \u001b[0;32m/opt/conda/lib/python3.10/site-packages/traitlets/traitlets.py:721\u001b[0m, in \u001b[0;36mTraitType.set\u001b[0;34m(self, obj, value)\u001b[0m\n\u001b[1;32m    717\u001b[0m     silent \u001b[38;5;241m=\u001b[39m \u001b[38;5;28;01mFalse\u001b[39;00m\n\u001b[1;32m    718\u001b[0m \u001b[38;5;28;01mif\u001b[39;00m silent \u001b[38;5;129;01mis\u001b[39;00m \u001b[38;5;129;01mnot\u001b[39;00m \u001b[38;5;28;01mTrue\u001b[39;00m:\n\u001b[1;32m    719\u001b[0m     \u001b[38;5;66;03m# we explicitly compare silent to True just in case the equality\u001b[39;00m\n\u001b[1;32m    720\u001b[0m     \u001b[38;5;66;03m# comparison above returns something other than True/False\u001b[39;00m\n\u001b[0;32m--> 721\u001b[0m     \u001b[43mobj\u001b[49m\u001b[38;5;241;43m.\u001b[39;49m\u001b[43m_notify_trait\u001b[49m\u001b[43m(\u001b[49m\u001b[38;5;28;43mself\u001b[39;49m\u001b[38;5;241;43m.\u001b[39;49m\u001b[43mname\u001b[49m\u001b[43m,\u001b[49m\u001b[43m \u001b[49m\u001b[43mold_value\u001b[49m\u001b[43m,\u001b[49m\u001b[43m \u001b[49m\u001b[43mnew_value\u001b[49m\u001b[43m)\u001b[49m\n",
      "File \u001b[0;32m/opt/conda/lib/python3.10/site-packages/traitlets/traitlets.py:1505\u001b[0m, in \u001b[0;36mHasTraits._notify_trait\u001b[0;34m(self, name, old_value, new_value)\u001b[0m\n\u001b[1;32m   1504\u001b[0m \u001b[38;5;28;01mdef\u001b[39;00m \u001b[38;5;21m_notify_trait\u001b[39m(\u001b[38;5;28mself\u001b[39m, name, old_value, new_value):\n\u001b[0;32m-> 1505\u001b[0m     \u001b[38;5;28;43mself\u001b[39;49m\u001b[38;5;241;43m.\u001b[39;49m\u001b[43mnotify_change\u001b[49m\u001b[43m(\u001b[49m\n\u001b[1;32m   1506\u001b[0m \u001b[43m        \u001b[49m\u001b[43mBunch\u001b[49m\u001b[43m(\u001b[49m\n\u001b[1;32m   1507\u001b[0m \u001b[43m            \u001b[49m\u001b[43mname\u001b[49m\u001b[38;5;241;43m=\u001b[39;49m\u001b[43mname\u001b[49m\u001b[43m,\u001b[49m\n\u001b[1;32m   1508\u001b[0m \u001b[43m            \u001b[49m\u001b[43mold\u001b[49m\u001b[38;5;241;43m=\u001b[39;49m\u001b[43mold_value\u001b[49m\u001b[43m,\u001b[49m\n\u001b[1;32m   1509\u001b[0m \u001b[43m            \u001b[49m\u001b[43mnew\u001b[49m\u001b[38;5;241;43m=\u001b[39;49m\u001b[43mnew_value\u001b[49m\u001b[43m,\u001b[49m\n\u001b[1;32m   1510\u001b[0m \u001b[43m            \u001b[49m\u001b[43mowner\u001b[49m\u001b[38;5;241;43m=\u001b[39;49m\u001b[38;5;28;43mself\u001b[39;49m\u001b[43m,\u001b[49m\n\u001b[1;32m   1511\u001b[0m \u001b[43m            \u001b[49m\u001b[38;5;28;43mtype\u001b[39;49m\u001b[38;5;241;43m=\u001b[39;49m\u001b[38;5;124;43m\"\u001b[39;49m\u001b[38;5;124;43mchange\u001b[39;49m\u001b[38;5;124;43m\"\u001b[39;49m\u001b[43m,\u001b[49m\n\u001b[1;32m   1512\u001b[0m \u001b[43m        \u001b[49m\u001b[43m)\u001b[49m\n\u001b[1;32m   1513\u001b[0m \u001b[43m    \u001b[49m\u001b[43m)\u001b[49m\n",
      "File \u001b[0;32m/opt/conda/lib/python3.10/site-packages/ipywidgets/widgets/widget.py:685\u001b[0m, in \u001b[0;36mWidget.notify_change\u001b[0;34m(self, change)\u001b[0m\n\u001b[1;32m    681\u001b[0m \u001b[38;5;28;01mif\u001b[39;00m \u001b[38;5;28mself\u001b[39m\u001b[38;5;241m.\u001b[39mcomm \u001b[38;5;129;01mis\u001b[39;00m \u001b[38;5;129;01mnot\u001b[39;00m \u001b[38;5;28;01mNone\u001b[39;00m \u001b[38;5;129;01mand\u001b[39;00m \u001b[38;5;28mself\u001b[39m\u001b[38;5;241m.\u001b[39mcomm\u001b[38;5;241m.\u001b[39mkernel \u001b[38;5;129;01mis\u001b[39;00m \u001b[38;5;129;01mnot\u001b[39;00m \u001b[38;5;28;01mNone\u001b[39;00m:\n\u001b[1;32m    682\u001b[0m     \u001b[38;5;66;03m# Make sure this isn't information that the front-end just sent us.\u001b[39;00m\n\u001b[1;32m    683\u001b[0m     \u001b[38;5;28;01mif\u001b[39;00m name \u001b[38;5;129;01min\u001b[39;00m \u001b[38;5;28mself\u001b[39m\u001b[38;5;241m.\u001b[39mkeys \u001b[38;5;129;01mand\u001b[39;00m \u001b[38;5;28mself\u001b[39m\u001b[38;5;241m.\u001b[39m_should_send_property(name, \u001b[38;5;28mgetattr\u001b[39m(\u001b[38;5;28mself\u001b[39m, name)):\n\u001b[1;32m    684\u001b[0m         \u001b[38;5;66;03m# Send new state to front-end\u001b[39;00m\n\u001b[0;32m--> 685\u001b[0m         \u001b[38;5;28;43mself\u001b[39;49m\u001b[38;5;241;43m.\u001b[39;49m\u001b[43msend_state\u001b[49m\u001b[43m(\u001b[49m\u001b[43mkey\u001b[49m\u001b[38;5;241;43m=\u001b[39;49m\u001b[43mname\u001b[49m\u001b[43m)\u001b[49m\n\u001b[1;32m    686\u001b[0m \u001b[38;5;28msuper\u001b[39m(Widget, \u001b[38;5;28mself\u001b[39m)\u001b[38;5;241m.\u001b[39mnotify_change(change)\n",
      "File \u001b[0;32m/opt/conda/lib/python3.10/site-packages/ipywidgets/widgets/widget.py:554\u001b[0m, in \u001b[0;36mWidget.send_state\u001b[0;34m(self, key)\u001b[0m\n\u001b[1;32m    552\u001b[0m state, buffer_paths, buffers \u001b[38;5;241m=\u001b[39m _remove_buffers(state)\n\u001b[1;32m    553\u001b[0m msg \u001b[38;5;241m=\u001b[39m {\u001b[38;5;124m'\u001b[39m\u001b[38;5;124mmethod\u001b[39m\u001b[38;5;124m'\u001b[39m: \u001b[38;5;124m'\u001b[39m\u001b[38;5;124mupdate\u001b[39m\u001b[38;5;124m'\u001b[39m, \u001b[38;5;124m'\u001b[39m\u001b[38;5;124mstate\u001b[39m\u001b[38;5;124m'\u001b[39m: state, \u001b[38;5;124m'\u001b[39m\u001b[38;5;124mbuffer_paths\u001b[39m\u001b[38;5;124m'\u001b[39m: buffer_paths}\n\u001b[0;32m--> 554\u001b[0m \u001b[38;5;28;43mself\u001b[39;49m\u001b[38;5;241;43m.\u001b[39;49m\u001b[43m_send\u001b[49m\u001b[43m(\u001b[49m\u001b[43mmsg\u001b[49m\u001b[43m,\u001b[49m\u001b[43m \u001b[49m\u001b[43mbuffers\u001b[49m\u001b[38;5;241;43m=\u001b[39;49m\u001b[43mbuffers\u001b[49m\u001b[43m)\u001b[49m\n",
      "File \u001b[0;32m/opt/conda/lib/python3.10/site-packages/ipywidgets/widgets/widget.py:817\u001b[0m, in \u001b[0;36mWidget._send\u001b[0;34m(self, msg, buffers)\u001b[0m\n\u001b[1;32m    815\u001b[0m \u001b[38;5;250m\u001b[39m\u001b[38;5;124;03m\"\"\"Sends a message to the model in the front-end.\"\"\"\u001b[39;00m\n\u001b[1;32m    816\u001b[0m \u001b[38;5;28;01mif\u001b[39;00m \u001b[38;5;28mself\u001b[39m\u001b[38;5;241m.\u001b[39mcomm \u001b[38;5;129;01mis\u001b[39;00m \u001b[38;5;129;01mnot\u001b[39;00m \u001b[38;5;28;01mNone\u001b[39;00m \u001b[38;5;129;01mand\u001b[39;00m \u001b[38;5;28mself\u001b[39m\u001b[38;5;241m.\u001b[39mcomm\u001b[38;5;241m.\u001b[39mkernel \u001b[38;5;129;01mis\u001b[39;00m \u001b[38;5;129;01mnot\u001b[39;00m \u001b[38;5;28;01mNone\u001b[39;00m:\n\u001b[0;32m--> 817\u001b[0m     \u001b[38;5;28;43mself\u001b[39;49m\u001b[38;5;241;43m.\u001b[39;49m\u001b[43mcomm\u001b[49m\u001b[38;5;241;43m.\u001b[39;49m\u001b[43msend\u001b[49m\u001b[43m(\u001b[49m\u001b[43mdata\u001b[49m\u001b[38;5;241;43m=\u001b[39;49m\u001b[43mmsg\u001b[49m\u001b[43m,\u001b[49m\u001b[43m \u001b[49m\u001b[43mbuffers\u001b[49m\u001b[38;5;241;43m=\u001b[39;49m\u001b[43mbuffers\u001b[49m\u001b[43m)\u001b[49m\n",
      "File \u001b[0;32m/opt/conda/lib/python3.10/site-packages/comm/base_comm.py:113\u001b[0m, in \u001b[0;36mBaseComm.send\u001b[0;34m(self, data, metadata, buffers)\u001b[0m\n\u001b[1;32m    111\u001b[0m \u001b[38;5;28;01mdef\u001b[39;00m \u001b[38;5;21msend\u001b[39m(\u001b[38;5;28mself\u001b[39m, data\u001b[38;5;241m=\u001b[39m\u001b[38;5;28;01mNone\u001b[39;00m, metadata\u001b[38;5;241m=\u001b[39m\u001b[38;5;28;01mNone\u001b[39;00m, buffers\u001b[38;5;241m=\u001b[39m\u001b[38;5;28;01mNone\u001b[39;00m):\n\u001b[1;32m    112\u001b[0m \u001b[38;5;250m    \u001b[39m\u001b[38;5;124;03m\"\"\"Send a message to the frontend-side version of this comm\"\"\"\u001b[39;00m\n\u001b[0;32m--> 113\u001b[0m     \u001b[38;5;28;43mself\u001b[39;49m\u001b[38;5;241;43m.\u001b[39;49m\u001b[43mpublish_msg\u001b[49m\u001b[43m(\u001b[49m\n\u001b[1;32m    114\u001b[0m \u001b[43m        \u001b[49m\u001b[38;5;124;43m\"\u001b[39;49m\u001b[38;5;124;43mcomm_msg\u001b[39;49m\u001b[38;5;124;43m\"\u001b[39;49m\u001b[43m,\u001b[49m\n\u001b[1;32m    115\u001b[0m \u001b[43m        \u001b[49m\u001b[43mdata\u001b[49m\u001b[38;5;241;43m=\u001b[39;49m\u001b[43mdata\u001b[49m\u001b[43m,\u001b[49m\n\u001b[1;32m    116\u001b[0m \u001b[43m        \u001b[49m\u001b[43mmetadata\u001b[49m\u001b[38;5;241;43m=\u001b[39;49m\u001b[43mmetadata\u001b[49m\u001b[43m,\u001b[49m\n\u001b[1;32m    117\u001b[0m \u001b[43m        \u001b[49m\u001b[43mbuffers\u001b[49m\u001b[38;5;241;43m=\u001b[39;49m\u001b[43mbuffers\u001b[49m\u001b[43m,\u001b[49m\n\u001b[1;32m    118\u001b[0m \u001b[43m    \u001b[49m\u001b[43m)\u001b[49m\n",
      "File \u001b[0;32m/opt/conda/lib/python3.10/site-packages/ipykernel/comm/comm.py:31\u001b[0m, in \u001b[0;36mBaseComm.publish_msg\u001b[0;34m(self, msg_type, data, metadata, buffers, **keys)\u001b[0m\n\u001b[1;32m     29\u001b[0m data \u001b[38;5;241m=\u001b[39m {} \u001b[38;5;28;01mif\u001b[39;00m data \u001b[38;5;129;01mis\u001b[39;00m \u001b[38;5;28;01mNone\u001b[39;00m \u001b[38;5;28;01melse\u001b[39;00m data\n\u001b[1;32m     30\u001b[0m metadata \u001b[38;5;241m=\u001b[39m {} \u001b[38;5;28;01mif\u001b[39;00m metadata \u001b[38;5;129;01mis\u001b[39;00m \u001b[38;5;28;01mNone\u001b[39;00m \u001b[38;5;28;01melse\u001b[39;00m metadata\n\u001b[0;32m---> 31\u001b[0m content \u001b[38;5;241m=\u001b[39m json_clean(\u001b[38;5;28mdict\u001b[39m(data\u001b[38;5;241m=\u001b[39mdata, comm_id\u001b[38;5;241m=\u001b[39m\u001b[38;5;28;43mself\u001b[39;49m\u001b[38;5;241;43m.\u001b[39;49m\u001b[43mcomm_id\u001b[49m, \u001b[38;5;241m*\u001b[39m\u001b[38;5;241m*\u001b[39mkeys))\n\u001b[1;32m     33\u001b[0m \u001b[38;5;28;01mif\u001b[39;00m \u001b[38;5;28mself\u001b[39m\u001b[38;5;241m.\u001b[39mkernel \u001b[38;5;129;01mis\u001b[39;00m \u001b[38;5;28;01mNone\u001b[39;00m:\n\u001b[1;32m     34\u001b[0m     \u001b[38;5;28mself\u001b[39m\u001b[38;5;241m.\u001b[39mkernel \u001b[38;5;241m=\u001b[39m Kernel\u001b[38;5;241m.\u001b[39minstance()\n",
      "File \u001b[0;32m/opt/conda/lib/python3.10/site-packages/traitlets/traitlets.py:692\u001b[0m, in \u001b[0;36mTraitType.__get__\u001b[0;34m(self, obj, cls)\u001b[0m\n\u001b[1;32m    689\u001b[0m     \u001b[38;5;28;01melse\u001b[39;00m:\n\u001b[1;32m    690\u001b[0m         \u001b[38;5;28;01mreturn\u001b[39;00m value\n\u001b[0;32m--> 692\u001b[0m \u001b[38;5;28;01mdef\u001b[39;00m \u001b[38;5;21m__get__\u001b[39m(\u001b[38;5;28mself\u001b[39m, obj, \u001b[38;5;28mcls\u001b[39m\u001b[38;5;241m=\u001b[39m\u001b[38;5;28;01mNone\u001b[39;00m):\n\u001b[1;32m    693\u001b[0m \u001b[38;5;250m    \u001b[39m\u001b[38;5;124;03m\"\"\"Get the value of the trait by self.name for the instance.\u001b[39;00m\n\u001b[1;32m    694\u001b[0m \n\u001b[1;32m    695\u001b[0m \u001b[38;5;124;03m    Default values are instantiated when :meth:`HasTraits.__new__`\u001b[39;00m\n\u001b[0;32m   (...)\u001b[0m\n\u001b[1;32m    698\u001b[0m \u001b[38;5;124;03m    is in the :class:`HasTraits` instance.\u001b[39;00m\n\u001b[1;32m    699\u001b[0m \u001b[38;5;124;03m    \"\"\"\u001b[39;00m\n\u001b[1;32m    700\u001b[0m     \u001b[38;5;28;01mif\u001b[39;00m obj \u001b[38;5;129;01mis\u001b[39;00m \u001b[38;5;28;01mNone\u001b[39;00m:\n",
      "\u001b[0;31mKeyboardInterrupt\u001b[0m: "
     ]
    }
   ],
   "source": [
    "H = 3\n",
    "realized_kernel_per_H_2h = data_realized_kernel_numpy(\n",
    "    trades_log_returns_2h, H, realized_kernel_time_window, ProgressBar(total=len(trades_log_returns_2h)))"
   ]
  },
  {
   "cell_type": "code",
   "execution_count": 66,
   "metadata": {
    "execution": {
     "iopub.execute_input": "2023-12-18T23:23:57.257999Z",
     "iopub.status.busy": "2023-12-18T23:23:57.257169Z",
     "iopub.status.idle": "2023-12-18T23:23:57.426464Z",
     "shell.execute_reply": "2023-12-18T23:23:57.425236Z",
     "shell.execute_reply.started": "2023-12-18T23:23:57.257963Z"
    }
   },
   "outputs": [
    {
     "data": {
      "application/vnd.jupyter.widget-view+json": {
       "model_id": "b90675742c3c403f867f40e3193c468c",
       "version_major": 2,
       "version_minor": 0
      },
      "text/plain": [
       "  0%|          | 0/319851 [00:00<?, ?it/s]"
      ]
     },
     "metadata": {},
     "output_type": "display_data"
    },
    {
     "ename": "TypeError",
     "evalue": "Argument 'a' has incorrect type (expected cupy._core.core._ndarray_base, got numpy.ndarray)",
     "output_type": "error",
     "traceback": [
      "\u001b[0;31m---------------------------------------------------------------------------\u001b[0m",
      "\u001b[0;31mTypeError\u001b[0m                                 Traceback (most recent call last)",
      "Cell \u001b[0;32mIn[66], line 2\u001b[0m\n\u001b[1;32m      1\u001b[0m H \u001b[38;5;241m=\u001b[39m \u001b[38;5;241m3\u001b[39m\n\u001b[0;32m----> 2\u001b[0m realized_kernel_per_H_2h \u001b[38;5;241m=\u001b[39m \u001b[43mdata_realized_kernel_cupy\u001b[49m\u001b[43m(\u001b[49m\n\u001b[1;32m      3\u001b[0m \u001b[43m    \u001b[49m\u001b[43mtrades_log_returns_2h\u001b[49m\u001b[43m,\u001b[49m\u001b[43m \u001b[49m\u001b[43mH\u001b[49m\u001b[43m,\u001b[49m\u001b[43m \u001b[49m\u001b[43mrealized_kernel_time_window\u001b[49m\u001b[43m,\u001b[49m\u001b[43m \u001b[49m\u001b[43mProgressBar\u001b[49m\u001b[43m(\u001b[49m\u001b[43mtotal\u001b[49m\u001b[38;5;241;43m=\u001b[39;49m\u001b[38;5;28;43mlen\u001b[39;49m\u001b[43m(\u001b[49m\u001b[43mtrades_log_returns_2h\u001b[49m\u001b[43m)\u001b[49m\u001b[43m)\u001b[49m\u001b[43m)\u001b[49m\n",
      "Cell \u001b[0;32mIn[65], line 24\u001b[0m, in \u001b[0;36mdata_realized_kernel_cupy\u001b[0;34m(time_series, H, time_window, progress_hook)\u001b[0m\n\u001b[1;32m     21\u001b[0m ts \u001b[38;5;241m=\u001b[39m time_series[:, \u001b[38;5;241m0\u001b[39m]\n\u001b[1;32m     22\u001b[0m prices \u001b[38;5;241m=\u001b[39m time_series[:, \u001b[38;5;241m1\u001b[39m]\n\u001b[0;32m---> 24\u001b[0m lag_prices_prod \u001b[38;5;241m=\u001b[39m [cp\u001b[38;5;241m.\u001b[39mcumsum(prices \u001b[38;5;241m*\u001b[39m shift_cupy(prices, lag)) \u001b[38;5;28;01mfor\u001b[39;00m lag \u001b[38;5;129;01min\u001b[39;00m \u001b[38;5;28mrange\u001b[39m(H \u001b[38;5;241m+\u001b[39m \u001b[38;5;241m1\u001b[39m)]\n\u001b[1;32m     25\u001b[0m kernel_values \u001b[38;5;241m=\u001b[39m [parzen_kernel_cupy(k \u001b[38;5;241m/\u001b[39m H) \u001b[38;5;28;01mfor\u001b[39;00m k \u001b[38;5;129;01min\u001b[39;00m \u001b[38;5;28mrange\u001b[39m(\u001b[38;5;241m1\u001b[39m, H \u001b[38;5;241m+\u001b[39m \u001b[38;5;241m1\u001b[39m)]\n\u001b[1;32m     27\u001b[0m start_index \u001b[38;5;241m=\u001b[39m \u001b[38;5;241m0\u001b[39m\n",
      "Cell \u001b[0;32mIn[65], line 24\u001b[0m, in \u001b[0;36m<listcomp>\u001b[0;34m(.0)\u001b[0m\n\u001b[1;32m     21\u001b[0m ts \u001b[38;5;241m=\u001b[39m time_series[:, \u001b[38;5;241m0\u001b[39m]\n\u001b[1;32m     22\u001b[0m prices \u001b[38;5;241m=\u001b[39m time_series[:, \u001b[38;5;241m1\u001b[39m]\n\u001b[0;32m---> 24\u001b[0m lag_prices_prod \u001b[38;5;241m=\u001b[39m [\u001b[43mcp\u001b[49m\u001b[38;5;241;43m.\u001b[39;49m\u001b[43mcumsum\u001b[49m\u001b[43m(\u001b[49m\u001b[43mprices\u001b[49m\u001b[43m \u001b[49m\u001b[38;5;241;43m*\u001b[39;49m\u001b[43m \u001b[49m\u001b[43mshift_cupy\u001b[49m\u001b[43m(\u001b[49m\u001b[43mprices\u001b[49m\u001b[43m,\u001b[49m\u001b[43m \u001b[49m\u001b[43mlag\u001b[49m\u001b[43m)\u001b[49m\u001b[43m)\u001b[49m \u001b[38;5;28;01mfor\u001b[39;00m lag \u001b[38;5;129;01min\u001b[39;00m \u001b[38;5;28mrange\u001b[39m(H \u001b[38;5;241m+\u001b[39m \u001b[38;5;241m1\u001b[39m)]\n\u001b[1;32m     25\u001b[0m kernel_values \u001b[38;5;241m=\u001b[39m [parzen_kernel_cupy(k \u001b[38;5;241m/\u001b[39m H) \u001b[38;5;28;01mfor\u001b[39;00m k \u001b[38;5;129;01min\u001b[39;00m \u001b[38;5;28mrange\u001b[39m(\u001b[38;5;241m1\u001b[39m, H \u001b[38;5;241m+\u001b[39m \u001b[38;5;241m1\u001b[39m)]\n\u001b[1;32m     27\u001b[0m start_index \u001b[38;5;241m=\u001b[39m \u001b[38;5;241m0\u001b[39m\n",
      "File \u001b[0;32m/opt/conda/lib/python3.10/site-packages/cupy/_math/sumprod.py:157\u001b[0m, in \u001b[0;36mcumsum\u001b[0;34m(a, axis, dtype, out)\u001b[0m\n\u001b[1;32m    141\u001b[0m \u001b[38;5;28;01mdef\u001b[39;00m \u001b[38;5;21mcumsum\u001b[39m(a, axis\u001b[38;5;241m=\u001b[39m\u001b[38;5;28;01mNone\u001b[39;00m, dtype\u001b[38;5;241m=\u001b[39m\u001b[38;5;28;01mNone\u001b[39;00m, out\u001b[38;5;241m=\u001b[39m\u001b[38;5;28;01mNone\u001b[39;00m):\n\u001b[1;32m    142\u001b[0m \u001b[38;5;250m    \u001b[39m\u001b[38;5;124;03m\"\"\"Returns the cumulative sum of an array along a given axis.\u001b[39;00m\n\u001b[1;32m    143\u001b[0m \n\u001b[1;32m    144\u001b[0m \u001b[38;5;124;03m    Args:\u001b[39;00m\n\u001b[0;32m   (...)\u001b[0m\n\u001b[1;32m    155\u001b[0m \n\u001b[1;32m    156\u001b[0m \u001b[38;5;124;03m    \"\"\"\u001b[39;00m\n\u001b[0;32m--> 157\u001b[0m     \u001b[38;5;28;01mreturn\u001b[39;00m \u001b[43m_math\u001b[49m\u001b[38;5;241;43m.\u001b[39;49m\u001b[43mscan_core\u001b[49m\u001b[43m(\u001b[49m\u001b[43ma\u001b[49m\u001b[43m,\u001b[49m\u001b[43m \u001b[49m\u001b[43maxis\u001b[49m\u001b[43m,\u001b[49m\u001b[43m \u001b[49m\u001b[43m_math\u001b[49m\u001b[38;5;241;43m.\u001b[39;49m\u001b[43mscan_op\u001b[49m\u001b[38;5;241;43m.\u001b[39;49m\u001b[43mSCAN_SUM\u001b[49m\u001b[43m,\u001b[49m\u001b[43m \u001b[49m\u001b[43mdtype\u001b[49m\u001b[43m,\u001b[49m\u001b[43m \u001b[49m\u001b[43mout\u001b[49m\u001b[43m)\u001b[49m\n",
      "\u001b[0;31mTypeError\u001b[0m: Argument 'a' has incorrect type (expected cupy._core.core._ndarray_base, got numpy.ndarray)"
     ]
    }
   ],
   "source": [
    "H = 3\n",
    "realized_kernel_per_H_2h = data_realized_kernel_cupy(\n",
    "    trades_log_returns_2h, H, realized_kernel_time_window, ProgressBar(total=len(trades_log_returns_2h)))"
   ]
  }
 ],
 "metadata": {
  "kaggle": {
   "accelerator": "nvidiaTeslaT4",
   "dataSources": [],
   "dockerImageVersionId": 30627,
   "isGpuEnabled": true,
   "isInternetEnabled": true,
   "language": "python",
   "sourceType": "notebook"
  },
  "kernelspec": {
   "display_name": "Python 3 (ipykernel)",
   "language": "python",
   "name": "python3"
  },
  "language_info": {
   "codemirror_mode": {
    "name": "ipython",
    "version": 3
   },
   "file_extension": ".py",
   "mimetype": "text/x-python",
   "name": "python",
   "nbconvert_exporter": "python",
   "pygments_lexer": "ipython3",
   "version": "3.10.4"
  }
 },
 "nbformat": 4,
 "nbformat_minor": 4
}
